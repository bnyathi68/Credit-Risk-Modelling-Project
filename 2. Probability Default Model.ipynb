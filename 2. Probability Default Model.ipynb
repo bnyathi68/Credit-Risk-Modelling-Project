{
 "cells": [
  {
   "cell_type": "code",
   "execution_count": 1,
   "id": "6caab7e3-c519-45af-bef5-1d5c99174ec1",
   "metadata": {},
   "outputs": [],
   "source": [
    "## Imports"
   ]
  },
  {
   "cell_type": "code",
   "execution_count": 2,
   "id": "543e1e38",
   "metadata": {},
   "outputs": [],
   "source": [
    "import pandas as pd\n",
    "import numpy as np\n",
    "from sklearn.linear_model import LogisticRegression\n",
    "from sklearn import metrics\n",
    "from sklearn import preprocessing\n",
    "from sklearn.metrics import roc_curve, roc_auc_score\n",
    "import matplotlib.pyplot as plt\n",
    "import seaborn as sns\n",
    "sns.set()"
   ]
  },
  {
   "cell_type": "code",
   "execution_count": 3,
   "id": "1c93125a",
   "metadata": {},
   "outputs": [],
   "source": [
    "loan_data_inputs_train = pd.read_csv('loan_data_inputs_train.csv', index_col = 0)\n",
    "loan_data_targets_train = pd.read_csv('loan_data_targets_train.csv', index_col  = 0)\n",
    "loan_data_inputs_test = pd.read_csv('loan_data_inputs_test.csv', index_col  = 0)\n",
    "loan_data_targets_test = pd.read_csv('loan_data_targets_test.csv', index_col  = 0)"
   ]
  },
  {
   "cell_type": "code",
   "execution_count": 9,
   "id": "6ba80367",
   "metadata": {},
   "outputs": [],
   "source": [
    "# We create a new pandas dataframe without the reference categories\n",
    "inputs_train_with_ref_cat = loan_data_inputs_train.loc[: , ['grade:A',\n",
    "'grade:B',\n",
    "'grade:C',\n",
    "'grade:D',\n",
    "'grade:E',\n",
    "'grade:F',\n",
    "'grade:G',\n",
    "'home_ownership:RENT_OTHER_NONE_ANY',\n",
    "'home_ownership:OWN',\n",
    "'home_ownership:MORTGAGE',\n",
    "'addr_state:ND_NE_IA_NV_FL_HI_AL',\n",
    "'addr_state:NM_VA',\n",
    "'addr_state:NY',\n",
    "'addr_state:OK_TN_MO_LA_MD_NC',\n",
    "'addr_state:CA',\n",
    "'addr_state:UT_KY_AZ_NJ',\n",
    "'addr_state:AR_MI_PA_OH_MN',\n",
    "'addr_state:RI_MA_DE_SD_IN',\n",
    "'addr_state:GA_WA_OR',\n",
    "'addr_state:WI_MT',\n",
    "'addr_state:TX',\n",
    "'addr_state:IL_CT',\n",
    "'addr_state:KS_SC_CO_VT_AK_MS',\n",
    "'addr_state:WV_NH_WY_DC_ME_ID',\n",
    "'verification_status:Not Verified',\n",
    "'verification_status:Source Verified',\n",
    "'verification_status:Verified',\n",
    "'purpose:educ__sm_b__wedd__ren_en__mov__house',\n",
    "'purpose:credit_card',\n",
    "'purpose:debt_consolidation',\n",
    "'purpose:oth__med__vacation',\n",
    "'purpose:major_purch__car__home_impr',\n",
    "'initial_list_status:f',\n",
    "'initial_list_status:w',\n",
    "'term:36',\n",
    "'term:60',\n",
    "'emp_length:0',\n",
    "'emp_length:1',\n",
    "'emp_length:2-4',\n",
    "'emp_length:5-6',\n",
    "'emp_length:7-9',\n",
    "'emp_length:10',\n",
    "'mths_since_earliest_issue_d:<38',\n",
    "'mths_since_earliest_issue_d:38-39',\n",
    "'mths_since_earliest_issue_d:40-41',\n",
    "'mths_since_earliest_issue_d:42-48',\n",
    "'mths_since_earliest_issue_d:49-52',\n",
    "'mths_since_earliest_issue_d:53-64',\n",
    "'mths_since_earliest_issue_d:65-84',\n",
    "'mths_since_earliest_issue_d:>84',\n",
    "'int_rate:<9.548',\n",
    "'int_rate:9.548-12.025',\n",
    "'int_rate:12.025-15.74',\n",
    "'int_rate:15.74-20.281',\n",
    "'int_rate:>20.281',\n",
    "'mths_since_earliest_cr_line:<140',\n",
    "'mths_since_earliest_cr_line:141-164',\n",
    "'mths_since_earliest_cr_line:165-247',\n",
    "'mths_since_earliest_cr_line:248-270',\n",
    "'mths_since_earliest_cr_line:271-352',\n",
    "'mths_since_earliest_cr_line:>352',\n",
    "'delinq_2yrs:0',\n",
    "'delinq_2yrs:1-3',\n",
    "'delinq_2yrs:>=4',\n",
    "'inq_last_6mths:0',\n",
    "'inq_last_6mths:1-2',\n",
    "'inq_last_6mths:3-6',\n",
    "'inq_last_6mths:>6',\n",
    "'open_acc:0',\n",
    "'open_acc:1-3',\n",
    "'open_acc:4-12',\n",
    "'open_acc:13-17',\n",
    "'open_acc:18-22',\n",
    "'open_acc:23-25',\n",
    "'open_acc:26-30',\n",
    "'open_acc:>=31',\n",
    "'pub_rec:0-2',\n",
    "'pub_rec:3-4',\n",
    "'pub_rec:>=5',\n",
    "'total_acc:<=27',\n",
    "'total_acc:28-51',\n",
    "'total_acc:>=52',\n",
    "'acc_now_delinq:0',\n",
    "'acc_now_delinq:>=1',\n",
    "'total_rev_hi_lim:<=5K',\n",
    "'total_rev_hi_lim:5K-10K',\n",
    "'total_rev_hi_lim:10K-20K',\n",
    "'total_rev_hi_lim:20K-30K',\n",
    "'total_rev_hi_lim:30K-40K',\n",
    "'total_rev_hi_lim:40K-55K',\n",
    "'total_rev_hi_lim:55K-95K',\n",
    "'total_rev_hi_lim:>95K',\n",
    "'annual_inc:<20K',\n",
    "'annual_inc:20K-30K',\n",
    "'annual_inc:30K-40K',\n",
    "'annual_inc:40K-50K',\n",
    "'annual_inc:50K-60K',\n",
    "'annual_inc:60K-70K',\n",
    "'annual_inc:70K-80K',\n",
    "'annual_inc:80K-90K',\n",
    "'annual_inc:90K-100K',\n",
    "'annual_inc:100K-120K',\n",
    "'annual_inc:120K-140K',\n",
    "'annual_inc:>140K',\n",
    "'dti:<=1.4',\n",
    "'dti:1.4-3.5',\n",
    "'dti:3.5-7.7',\n",
    "'dti:7.7-10.5',\n",
    "'dti:10.5-16.1',\n",
    "'dti:16.1-20.3',\n",
    "'dti:20.3-21.7',\n",
    "'dti:21.7-22.4',\n",
    "'dti:22.4-35',\n",
    "'dti:>35',\n",
    "'mths_since_last_delinq:Missing',\n",
    "'mths_since_last_delinq:0-3',\n",
    "'mths_since_last_delinq:4-30',\n",
    "'mths_since_last_delinq:31-56',\n",
    "'mths_since_last_delinq:>=57',\n",
    "'mths_since_last_record:Missing',\n",
    "'mths_since_last_record:0-2',\n",
    "'mths_since_last_record:3-20',\n",
    "'mths_since_last_record:21-31',\n",
    "'mths_since_last_record:32-80',\n",
    "'mths_since_last_record:81-86',\n",
    "'mths_since_last_record:>86']]"
   ]
  },
  {
   "cell_type": "code",
   "execution_count": 10,
   "id": "7a9a4cee",
   "metadata": {},
   "outputs": [],
   "source": [
    "ref_categories = ['grade:G',\n",
    "'home_ownership:RENT_OTHER_NONE_ANY',\n",
    "'addr_state:ND_NE_IA_NV_FL_HI_AL',\n",
    "'verification_status:Verified',\n",
    "'purpose:educ__sm_b__wedd__ren_en__mov__house',\n",
    "'initial_list_status:f',\n",
    "'term:60',\n",
    "'emp_length:0',\n",
    "'mths_since_earliest_issue_d:>84',\n",
    "'int_rate:>20.281',\n",
    "'mths_since_earliest_cr_line:<140',\n",
    "'delinq_2yrs:>=4',\n",
    "'inq_last_6mths:>6',\n",
    "'open_acc:0',\n",
    "'pub_rec:0-2',\n",
    "'total_acc:<=27',\n",
    "'acc_now_delinq:0',\n",
    "'total_rev_hi_lim:<=5K',\n",
    "'annual_inc:<20K',\n",
    "'dti:>35',\n",
    "'mths_since_last_delinq:0-3',\n",
    "'mths_since_last_record:0-2']"
   ]
  },
  {
   "cell_type": "code",
   "execution_count": null,
   "id": "4118f140",
   "metadata": {
    "scrolled": true
   },
   "outputs": [],
   "source": [
    "inputs_train = inputs_train_with_ref_cat.drop(ref_categories, axis = 1)"
   ]
  },
  {
   "cell_type": "markdown",
   "id": "2cb21737",
   "metadata": {},
   "source": [
    "### Logistic Regression Model without additional scaling"
   ]
  },
  {
   "cell_type": "code",
   "execution_count": 12,
   "id": "ad922f1a",
   "metadata": {},
   "outputs": [],
   "source": [
    "reg = LogisticRegression(max_iter=1000)"
   ]
  },
  {
   "cell_type": "code",
   "execution_count": 13,
   "id": "a63c9af9",
   "metadata": {},
   "outputs": [],
   "source": [
    "pd.options.display.max_rows = None"
   ]
  },
  {
   "cell_type": "code",
   "execution_count": 17,
   "id": "b7a41159",
   "metadata": {},
   "outputs": [
    {
     "data": {
      "text/plain": [
       "LogisticRegression(max_iter=1000)"
      ]
     },
     "execution_count": 17,
     "metadata": {},
     "output_type": "execute_result"
    }
   ],
   "source": [
    "reg.fit(inputs_train, loan_data_targets_train.values.ravel())"
   ]
  },
  {
   "cell_type": "code",
   "execution_count": 18,
   "id": "8d1058b4",
   "metadata": {},
   "outputs": [],
   "source": [
    "feature_name = inputs_train.columns.values"
   ]
  },
  {
   "cell_type": "code",
   "execution_count": 19,
   "id": "0efbe3fc",
   "metadata": {},
   "outputs": [],
   "source": [
    "summary_table = pd.DataFrame(columns = ['Feature Name'], data= feature_name)"
   ]
  },
  {
   "cell_type": "code",
   "execution_count": 20,
   "id": "1050d194",
   "metadata": {},
   "outputs": [],
   "source": [
    "summary_table['Coefficents'] = np.transpose(reg.coef_)"
   ]
  },
  {
   "cell_type": "code",
   "execution_count": null,
   "id": "69961d5a",
   "metadata": {
    "scrolled": true
   },
   "outputs": [],
   "source": [
    "summary_table.index = summary_table.index + 1\n",
    "summary_table.loc[0] = ['Intercept', reg.intercept_[0]]\n",
    "summary_table = summary_table.sort_index()"
   ]
  },
  {
   "cell_type": "markdown",
   "id": "1bfc6b62",
   "metadata": {},
   "source": [
    "#### Building a Logistic Regression with p-values"
   ]
  },
  {
   "cell_type": "code",
   "execution_count": 22,
   "id": "82f669c3",
   "metadata": {},
   "outputs": [],
   "source": [
    "# P values for sklearn logistic regression.\n",
    "\n",
    "# Class to display p-values for logistic regression in sklearn.\n",
    "\n",
    "from sklearn import linear_model\n",
    "import scipy.stats as stat\n",
    "\n",
    "class LogisticRegression_with_p_values:\n",
    "    \n",
    "    def __init__(self,*args,**kwargs):#,**kwargs):\n",
    "        self.model = linear_model.LogisticRegression(*args,**kwargs)#,**args)\n",
    "\n",
    "    def fit(self,X,y):\n",
    "        self.model.fit(X,y)\n",
    "        \n",
    "        #### Get p-values for the fitted model ####\n",
    "        denom = (2.0 * (1.0 + np.cosh(self.model.decision_function(X))))\n",
    "        denom = np.tile(denom,(X.shape[1],1)).T\n",
    "        F_ij = np.dot((X / denom).T,X) ## Fisher Information Matrix\n",
    "        Cramer_Rao = np.linalg.inv(F_ij) ## Inverse Information Matrix\n",
    "        sigma_estimates = np.sqrt(np.diagonal(Cramer_Rao))\n",
    "        z_scores = self.model.coef_[0] / sigma_estimates # z-score for eaach model coefficient\n",
    "        p_values = [stat.norm.sf(abs(x)) * 2 for x in z_scores] ### two tailed test for p-values\n",
    "        \n",
    "        self.coef_ = self.model.coef_\n",
    "        self.intercept_ = self.model.intercept_\n",
    "        self.p_values = p_values"
   ]
  },
  {
   "cell_type": "code",
   "execution_count": 23,
   "id": "cff660f3",
   "metadata": {},
   "outputs": [],
   "source": [
    "reg2 = LogisticRegression_with_p_values(max_iter= 1000)\n",
    "# We create an instance of an object from the newly created 'LogisticRegression_with_p_values()' class."
   ]
  },
  {
   "cell_type": "code",
   "execution_count": 24,
   "id": "dc99aeb5",
   "metadata": {},
   "outputs": [],
   "source": [
    "reg2.fit(inputs_train, loan_data_targets_train.values.ravel())"
   ]
  },
  {
   "cell_type": "code",
   "execution_count": null,
   "id": "928662c6",
   "metadata": {
    "scrolled": true
   },
   "outputs": [],
   "source": [
    "# Same as above.\n",
    "summary_table = pd.DataFrame(columns = ['Feature name'], data = feature_name)\n",
    "summary_table['Coefficients'] = np.transpose(reg.coef_)\n",
    "summary_table.index = summary_table.index + 1\n",
    "summary_table.loc[0] = ['Intercept', reg.intercept_[0]]\n",
    "summary_table = summary_table.sort_index()"
   ]
  },
  {
   "cell_type": "code",
   "execution_count": 26,
   "id": "bedf536a",
   "metadata": {},
   "outputs": [],
   "source": [
    "# This is a list.\n",
    "p_values = reg2.p_values"
   ]
  },
  {
   "cell_type": "code",
   "execution_count": 27,
   "id": "80221dbd",
   "metadata": {},
   "outputs": [],
   "source": [
    "p_values = np.append(np.nan, np.array(p_values))"
   ]
  },
  {
   "cell_type": "code",
   "execution_count": 28,
   "id": "87adb8a6",
   "metadata": {},
   "outputs": [],
   "source": [
    "summary_table['p_values'] = p_values\n",
    "# In the 'summary_table' dataframe, we add a new column, called 'p_values', containing the values from the 'p_values' variable."
   ]
  },
  {
   "cell_type": "code",
   "execution_count": 29,
   "id": "fed1fbad",
   "metadata": {},
   "outputs": [
    {
     "data": {
      "text/html": [
       "<div>\n",
       "<style scoped>\n",
       "    .dataframe tbody tr th:only-of-type {\n",
       "        vertical-align: middle;\n",
       "    }\n",
       "\n",
       "    .dataframe tbody tr th {\n",
       "        vertical-align: top;\n",
       "    }\n",
       "\n",
       "    .dataframe thead th {\n",
       "        text-align: right;\n",
       "    }\n",
       "</style>\n",
       "<table border=\"1\" class=\"dataframe\">\n",
       "  <thead>\n",
       "    <tr style=\"text-align: right;\">\n",
       "      <th></th>\n",
       "      <th>Feature name</th>\n",
       "      <th>Coefficients</th>\n",
       "      <th>p_values</th>\n",
       "    </tr>\n",
       "  </thead>\n",
       "  <tbody>\n",
       "    <tr>\n",
       "      <th>0</th>\n",
       "      <td>Intercept</td>\n",
       "      <td>-1.979571</td>\n",
       "      <td>NaN</td>\n",
       "    </tr>\n",
       "    <tr>\n",
       "      <th>1</th>\n",
       "      <td>grade:A</td>\n",
       "      <td>0.996674</td>\n",
       "      <td>9.202306e-27</td>\n",
       "    </tr>\n",
       "    <tr>\n",
       "      <th>2</th>\n",
       "      <td>grade:B</td>\n",
       "      <td>0.877523</td>\n",
       "      <td>1.855336e-47</td>\n",
       "    </tr>\n",
       "    <tr>\n",
       "      <th>3</th>\n",
       "      <td>grade:C</td>\n",
       "      <td>0.697416</td>\n",
       "      <td>2.043950e-35</td>\n",
       "    </tr>\n",
       "    <tr>\n",
       "      <th>4</th>\n",
       "      <td>grade:D</td>\n",
       "      <td>0.512380</td>\n",
       "      <td>6.640951e-22</td>\n",
       "    </tr>\n",
       "    <tr>\n",
       "      <th>5</th>\n",
       "      <td>grade:E</td>\n",
       "      <td>0.351472</td>\n",
       "      <td>1.338510e-13</td>\n",
       "    </tr>\n",
       "    <tr>\n",
       "      <th>6</th>\n",
       "      <td>grade:F</td>\n",
       "      <td>0.221669</td>\n",
       "      <td>7.954386e-06</td>\n",
       "    </tr>\n",
       "    <tr>\n",
       "      <th>7</th>\n",
       "      <td>home_ownership:OWN</td>\n",
       "      <td>0.088329</td>\n",
       "      <td>1.131824e-05</td>\n",
       "    </tr>\n",
       "    <tr>\n",
       "      <th>8</th>\n",
       "      <td>home_ownership:MORTGAGE</td>\n",
       "      <td>0.112188</td>\n",
       "      <td>1.088046e-18</td>\n",
       "    </tr>\n",
       "    <tr>\n",
       "      <th>9</th>\n",
       "      <td>addr_state:NM_VA</td>\n",
       "      <td>0.060240</td>\n",
       "      <td>6.201039e-02</td>\n",
       "    </tr>\n",
       "    <tr>\n",
       "      <th>10</th>\n",
       "      <td>addr_state:NY</td>\n",
       "      <td>0.056673</td>\n",
       "      <td>1.903531e-02</td>\n",
       "    </tr>\n",
       "    <tr>\n",
       "      <th>11</th>\n",
       "      <td>addr_state:OK_TN_MO_LA_MD_NC</td>\n",
       "      <td>0.076267</td>\n",
       "      <td>1.009438e-03</td>\n",
       "    </tr>\n",
       "    <tr>\n",
       "      <th>12</th>\n",
       "      <td>addr_state:CA</td>\n",
       "      <td>0.084756</td>\n",
       "      <td>6.583253e-05</td>\n",
       "    </tr>\n",
       "    <tr>\n",
       "      <th>13</th>\n",
       "      <td>addr_state:UT_KY_AZ_NJ</td>\n",
       "      <td>0.074824</td>\n",
       "      <td>2.575099e-03</td>\n",
       "    </tr>\n",
       "    <tr>\n",
       "      <th>14</th>\n",
       "      <td>addr_state:AR_MI_PA_OH_MN</td>\n",
       "      <td>0.151732</td>\n",
       "      <td>1.616969e-11</td>\n",
       "    </tr>\n",
       "    <tr>\n",
       "      <th>15</th>\n",
       "      <td>addr_state:RI_MA_DE_SD_IN</td>\n",
       "      <td>0.095153</td>\n",
       "      <td>1.393316e-03</td>\n",
       "    </tr>\n",
       "    <tr>\n",
       "      <th>16</th>\n",
       "      <td>addr_state:GA_WA_OR</td>\n",
       "      <td>0.203300</td>\n",
       "      <td>2.787244e-14</td>\n",
       "    </tr>\n",
       "    <tr>\n",
       "      <th>17</th>\n",
       "      <td>addr_state:WI_MT</td>\n",
       "      <td>0.260461</td>\n",
       "      <td>5.633184e-08</td>\n",
       "    </tr>\n",
       "    <tr>\n",
       "      <th>18</th>\n",
       "      <td>addr_state:TX</td>\n",
       "      <td>0.238700</td>\n",
       "      <td>4.246858e-20</td>\n",
       "    </tr>\n",
       "    <tr>\n",
       "      <th>19</th>\n",
       "      <td>addr_state:IL_CT</td>\n",
       "      <td>0.283990</td>\n",
       "      <td>3.141948e-22</td>\n",
       "    </tr>\n",
       "    <tr>\n",
       "      <th>20</th>\n",
       "      <td>addr_state:KS_SC_CO_VT_AK_MS</td>\n",
       "      <td>0.360472</td>\n",
       "      <td>5.255035e-31</td>\n",
       "    </tr>\n",
       "    <tr>\n",
       "      <th>21</th>\n",
       "      <td>addr_state:WV_NH_WY_DC_ME_ID</td>\n",
       "      <td>0.534999</td>\n",
       "      <td>1.131246e-23</td>\n",
       "    </tr>\n",
       "    <tr>\n",
       "      <th>22</th>\n",
       "      <td>verification_status:Not Verified</td>\n",
       "      <td>0.097338</td>\n",
       "      <td>3.776927e-11</td>\n",
       "    </tr>\n",
       "    <tr>\n",
       "      <th>23</th>\n",
       "      <td>verification_status:Source Verified</td>\n",
       "      <td>-0.008782</td>\n",
       "      <td>5.141843e-01</td>\n",
       "    </tr>\n",
       "    <tr>\n",
       "      <th>24</th>\n",
       "      <td>purpose:credit_card</td>\n",
       "      <td>0.336018</td>\n",
       "      <td>3.560026e-32</td>\n",
       "    </tr>\n",
       "    <tr>\n",
       "      <th>25</th>\n",
       "      <td>purpose:debt_consolidation</td>\n",
       "      <td>0.216806</td>\n",
       "      <td>1.093357e-16</td>\n",
       "    </tr>\n",
       "    <tr>\n",
       "      <th>26</th>\n",
       "      <td>purpose:oth__med__vacation</td>\n",
       "      <td>0.218289</td>\n",
       "      <td>2.307264e-12</td>\n",
       "    </tr>\n",
       "    <tr>\n",
       "      <th>27</th>\n",
       "      <td>purpose:major_purch__car__home_impr</td>\n",
       "      <td>0.278096</td>\n",
       "      <td>6.357108e-19</td>\n",
       "    </tr>\n",
       "    <tr>\n",
       "      <th>28</th>\n",
       "      <td>initial_list_status:w</td>\n",
       "      <td>0.044575</td>\n",
       "      <td>6.342818e-04</td>\n",
       "    </tr>\n",
       "    <tr>\n",
       "      <th>29</th>\n",
       "      <td>term:36</td>\n",
       "      <td>0.073550</td>\n",
       "      <td>2.249826e-07</td>\n",
       "    </tr>\n",
       "    <tr>\n",
       "      <th>30</th>\n",
       "      <td>emp_length:1</td>\n",
       "      <td>0.114152</td>\n",
       "      <td>1.146530e-05</td>\n",
       "    </tr>\n",
       "    <tr>\n",
       "      <th>31</th>\n",
       "      <td>emp_length:2-4</td>\n",
       "      <td>0.123780</td>\n",
       "      <td>5.164654e-11</td>\n",
       "    </tr>\n",
       "    <tr>\n",
       "      <th>32</th>\n",
       "      <td>emp_length:5-6</td>\n",
       "      <td>0.083702</td>\n",
       "      <td>8.846853e-05</td>\n",
       "    </tr>\n",
       "    <tr>\n",
       "      <th>33</th>\n",
       "      <td>emp_length:7-9</td>\n",
       "      <td>0.066777</td>\n",
       "      <td>1.330386e-03</td>\n",
       "    </tr>\n",
       "    <tr>\n",
       "      <th>34</th>\n",
       "      <td>emp_length:10</td>\n",
       "      <td>0.124660</td>\n",
       "      <td>1.263286e-11</td>\n",
       "    </tr>\n",
       "    <tr>\n",
       "      <th>35</th>\n",
       "      <td>mths_since_earliest_issue_d:&lt;38</td>\n",
       "      <td>1.072190</td>\n",
       "      <td>3.006121e-168</td>\n",
       "    </tr>\n",
       "    <tr>\n",
       "      <th>36</th>\n",
       "      <td>mths_since_earliest_issue_d:38-39</td>\n",
       "      <td>0.861014</td>\n",
       "      <td>5.593006e-136</td>\n",
       "    </tr>\n",
       "    <tr>\n",
       "      <th>37</th>\n",
       "      <td>mths_since_earliest_issue_d:40-41</td>\n",
       "      <td>0.762136</td>\n",
       "      <td>1.420426e-111</td>\n",
       "    </tr>\n",
       "    <tr>\n",
       "      <th>38</th>\n",
       "      <td>mths_since_earliest_issue_d:42-48</td>\n",
       "      <td>0.561254</td>\n",
       "      <td>2.105505e-77</td>\n",
       "    </tr>\n",
       "    <tr>\n",
       "      <th>39</th>\n",
       "      <td>mths_since_earliest_issue_d:49-52</td>\n",
       "      <td>0.397980</td>\n",
       "      <td>2.520975e-35</td>\n",
       "    </tr>\n",
       "    <tr>\n",
       "      <th>40</th>\n",
       "      <td>mths_since_earliest_issue_d:53-64</td>\n",
       "      <td>0.147141</td>\n",
       "      <td>1.116894e-06</td>\n",
       "    </tr>\n",
       "    <tr>\n",
       "      <th>41</th>\n",
       "      <td>mths_since_earliest_issue_d:65-84</td>\n",
       "      <td>-0.082687</td>\n",
       "      <td>4.975112e-03</td>\n",
       "    </tr>\n",
       "    <tr>\n",
       "      <th>42</th>\n",
       "      <td>int_rate:&lt;9.548</td>\n",
       "      <td>1.063016</td>\n",
       "      <td>5.913471e-41</td>\n",
       "    </tr>\n",
       "    <tr>\n",
       "      <th>43</th>\n",
       "      <td>int_rate:9.548-12.025</td>\n",
       "      <td>0.608890</td>\n",
       "      <td>7.373556e-42</td>\n",
       "    </tr>\n",
       "    <tr>\n",
       "      <th>44</th>\n",
       "      <td>int_rate:12.025-15.74</td>\n",
       "      <td>0.349460</td>\n",
       "      <td>3.095997e-21</td>\n",
       "    </tr>\n",
       "    <tr>\n",
       "      <th>45</th>\n",
       "      <td>int_rate:15.74-20.281</td>\n",
       "      <td>0.147362</td>\n",
       "      <td>4.247734e-07</td>\n",
       "    </tr>\n",
       "    <tr>\n",
       "      <th>46</th>\n",
       "      <td>mths_since_earliest_cr_line:141-164</td>\n",
       "      <td>0.049457</td>\n",
       "      <td>4.860253e-02</td>\n",
       "    </tr>\n",
       "    <tr>\n",
       "      <th>47</th>\n",
       "      <td>mths_since_earliest_cr_line:165-247</td>\n",
       "      <td>0.032844</td>\n",
       "      <td>1.080156e-01</td>\n",
       "    </tr>\n",
       "    <tr>\n",
       "      <th>48</th>\n",
       "      <td>mths_since_earliest_cr_line:248-270</td>\n",
       "      <td>0.065680</td>\n",
       "      <td>1.372042e-02</td>\n",
       "    </tr>\n",
       "    <tr>\n",
       "      <th>49</th>\n",
       "      <td>mths_since_earliest_cr_line:271-352</td>\n",
       "      <td>0.094685</td>\n",
       "      <td>7.545598e-05</td>\n",
       "    </tr>\n",
       "    <tr>\n",
       "      <th>50</th>\n",
       "      <td>mths_since_earliest_cr_line:&gt;352</td>\n",
       "      <td>0.115580</td>\n",
       "      <td>2.034562e-05</td>\n",
       "    </tr>\n",
       "    <tr>\n",
       "      <th>51</th>\n",
       "      <td>delinq_2yrs:0</td>\n",
       "      <td>0.060873</td>\n",
       "      <td>2.854128e-01</td>\n",
       "    </tr>\n",
       "    <tr>\n",
       "      <th>52</th>\n",
       "      <td>delinq_2yrs:1-3</td>\n",
       "      <td>0.012097</td>\n",
       "      <td>8.212747e-01</td>\n",
       "    </tr>\n",
       "    <tr>\n",
       "      <th>53</th>\n",
       "      <td>inq_last_6mths:0</td>\n",
       "      <td>0.796430</td>\n",
       "      <td>2.858680e-12</td>\n",
       "    </tr>\n",
       "    <tr>\n",
       "      <th>54</th>\n",
       "      <td>inq_last_6mths:1-2</td>\n",
       "      <td>0.644307</td>\n",
       "      <td>1.529839e-08</td>\n",
       "    </tr>\n",
       "    <tr>\n",
       "      <th>55</th>\n",
       "      <td>inq_last_6mths:3-6</td>\n",
       "      <td>0.452892</td>\n",
       "      <td>7.518529e-05</td>\n",
       "    </tr>\n",
       "    <tr>\n",
       "      <th>56</th>\n",
       "      <td>open_acc:1-3</td>\n",
       "      <td>0.297882</td>\n",
       "      <td>7.055316e-02</td>\n",
       "    </tr>\n",
       "    <tr>\n",
       "      <th>57</th>\n",
       "      <td>open_acc:4-12</td>\n",
       "      <td>0.269366</td>\n",
       "      <td>9.474890e-02</td>\n",
       "    </tr>\n",
       "    <tr>\n",
       "      <th>58</th>\n",
       "      <td>open_acc:13-17</td>\n",
       "      <td>0.253872</td>\n",
       "      <td>1.160326e-01</td>\n",
       "    </tr>\n",
       "    <tr>\n",
       "      <th>59</th>\n",
       "      <td>open_acc:18-22</td>\n",
       "      <td>0.253004</td>\n",
       "      <td>1.194877e-01</td>\n",
       "    </tr>\n",
       "    <tr>\n",
       "      <th>60</th>\n",
       "      <td>open_acc:23-25</td>\n",
       "      <td>0.260297</td>\n",
       "      <td>1.197064e-01</td>\n",
       "    </tr>\n",
       "    <tr>\n",
       "      <th>61</th>\n",
       "      <td>open_acc:26-30</td>\n",
       "      <td>0.213431</td>\n",
       "      <td>2.151504e-01</td>\n",
       "    </tr>\n",
       "    <tr>\n",
       "      <th>62</th>\n",
       "      <td>open_acc:&gt;=31</td>\n",
       "      <td>0.266343</td>\n",
       "      <td>1.536455e-01</td>\n",
       "    </tr>\n",
       "    <tr>\n",
       "      <th>63</th>\n",
       "      <td>pub_rec:3-4</td>\n",
       "      <td>-0.016002</td>\n",
       "      <td>8.612672e-01</td>\n",
       "    </tr>\n",
       "    <tr>\n",
       "      <th>64</th>\n",
       "      <td>pub_rec:&gt;=5</td>\n",
       "      <td>-0.056547</td>\n",
       "      <td>7.502129e-01</td>\n",
       "    </tr>\n",
       "    <tr>\n",
       "      <th>65</th>\n",
       "      <td>total_acc:28-51</td>\n",
       "      <td>-0.041798</td>\n",
       "      <td>3.226123e-03</td>\n",
       "    </tr>\n",
       "    <tr>\n",
       "      <th>66</th>\n",
       "      <td>total_acc:&gt;=52</td>\n",
       "      <td>-0.024030</td>\n",
       "      <td>5.434095e-01</td>\n",
       "    </tr>\n",
       "    <tr>\n",
       "      <th>67</th>\n",
       "      <td>acc_now_delinq:&gt;=1</td>\n",
       "      <td>0.165115</td>\n",
       "      <td>1.095759e-01</td>\n",
       "    </tr>\n",
       "    <tr>\n",
       "      <th>68</th>\n",
       "      <td>total_rev_hi_lim:5K-10K</td>\n",
       "      <td>0.032777</td>\n",
       "      <td>1.813730e-01</td>\n",
       "    </tr>\n",
       "    <tr>\n",
       "      <th>69</th>\n",
       "      <td>total_rev_hi_lim:10K-20K</td>\n",
       "      <td>0.020387</td>\n",
       "      <td>3.917145e-01</td>\n",
       "    </tr>\n",
       "    <tr>\n",
       "      <th>70</th>\n",
       "      <td>total_rev_hi_lim:20K-30K</td>\n",
       "      <td>0.026234</td>\n",
       "      <td>3.163981e-01</td>\n",
       "    </tr>\n",
       "    <tr>\n",
       "      <th>71</th>\n",
       "      <td>total_rev_hi_lim:30K-40K</td>\n",
       "      <td>0.008894</td>\n",
       "      <td>7.617907e-01</td>\n",
       "    </tr>\n",
       "    <tr>\n",
       "      <th>72</th>\n",
       "      <td>total_rev_hi_lim:40K-55K</td>\n",
       "      <td>0.068470</td>\n",
       "      <td>3.352786e-02</td>\n",
       "    </tr>\n",
       "    <tr>\n",
       "      <th>73</th>\n",
       "      <td>total_rev_hi_lim:55K-95K</td>\n",
       "      <td>0.076584</td>\n",
       "      <td>3.296459e-02</td>\n",
       "    </tr>\n",
       "    <tr>\n",
       "      <th>74</th>\n",
       "      <td>total_rev_hi_lim:&gt;95K</td>\n",
       "      <td>0.251643</td>\n",
       "      <td>1.021774e-05</td>\n",
       "    </tr>\n",
       "    <tr>\n",
       "      <th>75</th>\n",
       "      <td>annual_inc:20K-30K</td>\n",
       "      <td>-0.054414</td>\n",
       "      <td>2.019434e-01</td>\n",
       "    </tr>\n",
       "    <tr>\n",
       "      <th>76</th>\n",
       "      <td>annual_inc:30K-40K</td>\n",
       "      <td>0.019780</td>\n",
       "      <td>6.307259e-01</td>\n",
       "    </tr>\n",
       "    <tr>\n",
       "      <th>77</th>\n",
       "      <td>annual_inc:40K-50K</td>\n",
       "      <td>0.121384</td>\n",
       "      <td>3.225103e-03</td>\n",
       "    </tr>\n",
       "    <tr>\n",
       "      <th>78</th>\n",
       "      <td>annual_inc:50K-60K</td>\n",
       "      <td>0.184650</td>\n",
       "      <td>9.999430e-06</td>\n",
       "    </tr>\n",
       "    <tr>\n",
       "      <th>79</th>\n",
       "      <td>annual_inc:60K-70K</td>\n",
       "      <td>0.271149</td>\n",
       "      <td>2.429445e-10</td>\n",
       "    </tr>\n",
       "    <tr>\n",
       "      <th>80</th>\n",
       "      <td>annual_inc:70K-80K</td>\n",
       "      <td>0.343335</td>\n",
       "      <td>4.265181e-15</td>\n",
       "    </tr>\n",
       "    <tr>\n",
       "      <th>81</th>\n",
       "      <td>annual_inc:80K-90K</td>\n",
       "      <td>0.391787</td>\n",
       "      <td>6.988004e-18</td>\n",
       "    </tr>\n",
       "    <tr>\n",
       "      <th>82</th>\n",
       "      <td>annual_inc:90K-100K</td>\n",
       "      <td>0.422015</td>\n",
       "      <td>3.141756e-19</td>\n",
       "    </tr>\n",
       "    <tr>\n",
       "      <th>83</th>\n",
       "      <td>annual_inc:100K-120K</td>\n",
       "      <td>0.507954</td>\n",
       "      <td>2.410719e-27</td>\n",
       "    </tr>\n",
       "    <tr>\n",
       "      <th>84</th>\n",
       "      <td>annual_inc:120K-140K</td>\n",
       "      <td>0.585830</td>\n",
       "      <td>2.274217e-28</td>\n",
       "    </tr>\n",
       "    <tr>\n",
       "      <th>85</th>\n",
       "      <td>annual_inc:&gt;140K</td>\n",
       "      <td>0.546880</td>\n",
       "      <td>2.005434e-28</td>\n",
       "    </tr>\n",
       "    <tr>\n",
       "      <th>86</th>\n",
       "      <td>dti:&lt;=1.4</td>\n",
       "      <td>0.271886</td>\n",
       "      <td>2.295693e-03</td>\n",
       "    </tr>\n",
       "    <tr>\n",
       "      <th>87</th>\n",
       "      <td>dti:1.4-3.5</td>\n",
       "      <td>0.334102</td>\n",
       "      <td>8.110320e-06</td>\n",
       "    </tr>\n",
       "    <tr>\n",
       "      <th>88</th>\n",
       "      <td>dti:3.5-7.7</td>\n",
       "      <td>0.368223</td>\n",
       "      <td>1.868483e-08</td>\n",
       "    </tr>\n",
       "    <tr>\n",
       "      <th>89</th>\n",
       "      <td>dti:7.7-10.5</td>\n",
       "      <td>0.290424</td>\n",
       "      <td>7.632799e-06</td>\n",
       "    </tr>\n",
       "    <tr>\n",
       "      <th>90</th>\n",
       "      <td>dti:10.5-16.1</td>\n",
       "      <td>0.234317</td>\n",
       "      <td>1.967653e-04</td>\n",
       "    </tr>\n",
       "    <tr>\n",
       "      <th>91</th>\n",
       "      <td>dti:16.1-20.3</td>\n",
       "      <td>0.128976</td>\n",
       "      <td>4.029766e-02</td>\n",
       "    </tr>\n",
       "    <tr>\n",
       "      <th>92</th>\n",
       "      <td>dti:20.3-21.7</td>\n",
       "      <td>0.138731</td>\n",
       "      <td>3.385622e-02</td>\n",
       "    </tr>\n",
       "    <tr>\n",
       "      <th>93</th>\n",
       "      <td>dti:21.7-22.4</td>\n",
       "      <td>0.080932</td>\n",
       "      <td>2.417245e-01</td>\n",
       "    </tr>\n",
       "    <tr>\n",
       "      <th>94</th>\n",
       "      <td>dti:22.4-35</td>\n",
       "      <td>0.035115</td>\n",
       "      <td>5.720333e-01</td>\n",
       "    </tr>\n",
       "    <tr>\n",
       "      <th>95</th>\n",
       "      <td>mths_since_last_delinq:Missing</td>\n",
       "      <td>0.069709</td>\n",
       "      <td>2.250947e-01</td>\n",
       "    </tr>\n",
       "    <tr>\n",
       "      <th>96</th>\n",
       "      <td>mths_since_last_delinq:4-30</td>\n",
       "      <td>0.148297</td>\n",
       "      <td>5.184742e-03</td>\n",
       "    </tr>\n",
       "    <tr>\n",
       "      <th>97</th>\n",
       "      <td>mths_since_last_delinq:31-56</td>\n",
       "      <td>0.141679</td>\n",
       "      <td>1.550970e-02</td>\n",
       "    </tr>\n",
       "    <tr>\n",
       "      <th>98</th>\n",
       "      <td>mths_since_last_delinq:&gt;=57</td>\n",
       "      <td>0.109918</td>\n",
       "      <td>6.557811e-02</td>\n",
       "    </tr>\n",
       "    <tr>\n",
       "      <th>99</th>\n",
       "      <td>mths_since_last_record:Missing</td>\n",
       "      <td>0.402035</td>\n",
       "      <td>2.762730e-06</td>\n",
       "    </tr>\n",
       "    <tr>\n",
       "      <th>100</th>\n",
       "      <td>mths_since_last_record:3-20</td>\n",
       "      <td>0.576214</td>\n",
       "      <td>6.272714e-06</td>\n",
       "    </tr>\n",
       "    <tr>\n",
       "      <th>101</th>\n",
       "      <td>mths_since_last_record:21-31</td>\n",
       "      <td>0.497133</td>\n",
       "      <td>2.581000e-05</td>\n",
       "    </tr>\n",
       "    <tr>\n",
       "      <th>102</th>\n",
       "      <td>mths_since_last_record:32-80</td>\n",
       "      <td>0.615310</td>\n",
       "      <td>7.805741e-12</td>\n",
       "    </tr>\n",
       "    <tr>\n",
       "      <th>103</th>\n",
       "      <td>mths_since_last_record:81-86</td>\n",
       "      <td>0.279394</td>\n",
       "      <td>8.185555e-03</td>\n",
       "    </tr>\n",
       "    <tr>\n",
       "      <th>104</th>\n",
       "      <td>mths_since_last_record:&gt;86</td>\n",
       "      <td>0.314606</td>\n",
       "      <td>3.772581e-04</td>\n",
       "    </tr>\n",
       "  </tbody>\n",
       "</table>\n",
       "</div>"
      ],
      "text/plain": [
       "                            Feature name  Coefficients       p_values\n",
       "0                              Intercept     -1.979571            NaN\n",
       "1                                grade:A      0.996674   9.202306e-27\n",
       "2                                grade:B      0.877523   1.855336e-47\n",
       "3                                grade:C      0.697416   2.043950e-35\n",
       "4                                grade:D      0.512380   6.640951e-22\n",
       "5                                grade:E      0.351472   1.338510e-13\n",
       "6                                grade:F      0.221669   7.954386e-06\n",
       "7                     home_ownership:OWN      0.088329   1.131824e-05\n",
       "8                home_ownership:MORTGAGE      0.112188   1.088046e-18\n",
       "9                       addr_state:NM_VA      0.060240   6.201039e-02\n",
       "10                         addr_state:NY      0.056673   1.903531e-02\n",
       "11          addr_state:OK_TN_MO_LA_MD_NC      0.076267   1.009438e-03\n",
       "12                         addr_state:CA      0.084756   6.583253e-05\n",
       "13                addr_state:UT_KY_AZ_NJ      0.074824   2.575099e-03\n",
       "14             addr_state:AR_MI_PA_OH_MN      0.151732   1.616969e-11\n",
       "15             addr_state:RI_MA_DE_SD_IN      0.095153   1.393316e-03\n",
       "16                   addr_state:GA_WA_OR      0.203300   2.787244e-14\n",
       "17                      addr_state:WI_MT      0.260461   5.633184e-08\n",
       "18                         addr_state:TX      0.238700   4.246858e-20\n",
       "19                      addr_state:IL_CT      0.283990   3.141948e-22\n",
       "20          addr_state:KS_SC_CO_VT_AK_MS      0.360472   5.255035e-31\n",
       "21          addr_state:WV_NH_WY_DC_ME_ID      0.534999   1.131246e-23\n",
       "22      verification_status:Not Verified      0.097338   3.776927e-11\n",
       "23   verification_status:Source Verified     -0.008782   5.141843e-01\n",
       "24                   purpose:credit_card      0.336018   3.560026e-32\n",
       "25            purpose:debt_consolidation      0.216806   1.093357e-16\n",
       "26            purpose:oth__med__vacation      0.218289   2.307264e-12\n",
       "27   purpose:major_purch__car__home_impr      0.278096   6.357108e-19\n",
       "28                 initial_list_status:w      0.044575   6.342818e-04\n",
       "29                               term:36      0.073550   2.249826e-07\n",
       "30                          emp_length:1      0.114152   1.146530e-05\n",
       "31                        emp_length:2-4      0.123780   5.164654e-11\n",
       "32                        emp_length:5-6      0.083702   8.846853e-05\n",
       "33                        emp_length:7-9      0.066777   1.330386e-03\n",
       "34                         emp_length:10      0.124660   1.263286e-11\n",
       "35       mths_since_earliest_issue_d:<38      1.072190  3.006121e-168\n",
       "36     mths_since_earliest_issue_d:38-39      0.861014  5.593006e-136\n",
       "37     mths_since_earliest_issue_d:40-41      0.762136  1.420426e-111\n",
       "38     mths_since_earliest_issue_d:42-48      0.561254   2.105505e-77\n",
       "39     mths_since_earliest_issue_d:49-52      0.397980   2.520975e-35\n",
       "40     mths_since_earliest_issue_d:53-64      0.147141   1.116894e-06\n",
       "41     mths_since_earliest_issue_d:65-84     -0.082687   4.975112e-03\n",
       "42                       int_rate:<9.548      1.063016   5.913471e-41\n",
       "43                 int_rate:9.548-12.025      0.608890   7.373556e-42\n",
       "44                 int_rate:12.025-15.74      0.349460   3.095997e-21\n",
       "45                 int_rate:15.74-20.281      0.147362   4.247734e-07\n",
       "46   mths_since_earliest_cr_line:141-164      0.049457   4.860253e-02\n",
       "47   mths_since_earliest_cr_line:165-247      0.032844   1.080156e-01\n",
       "48   mths_since_earliest_cr_line:248-270      0.065680   1.372042e-02\n",
       "49   mths_since_earliest_cr_line:271-352      0.094685   7.545598e-05\n",
       "50      mths_since_earliest_cr_line:>352      0.115580   2.034562e-05\n",
       "51                         delinq_2yrs:0      0.060873   2.854128e-01\n",
       "52                       delinq_2yrs:1-3      0.012097   8.212747e-01\n",
       "53                      inq_last_6mths:0      0.796430   2.858680e-12\n",
       "54                    inq_last_6mths:1-2      0.644307   1.529839e-08\n",
       "55                    inq_last_6mths:3-6      0.452892   7.518529e-05\n",
       "56                          open_acc:1-3      0.297882   7.055316e-02\n",
       "57                         open_acc:4-12      0.269366   9.474890e-02\n",
       "58                        open_acc:13-17      0.253872   1.160326e-01\n",
       "59                        open_acc:18-22      0.253004   1.194877e-01\n",
       "60                        open_acc:23-25      0.260297   1.197064e-01\n",
       "61                        open_acc:26-30      0.213431   2.151504e-01\n",
       "62                         open_acc:>=31      0.266343   1.536455e-01\n",
       "63                           pub_rec:3-4     -0.016002   8.612672e-01\n",
       "64                           pub_rec:>=5     -0.056547   7.502129e-01\n",
       "65                       total_acc:28-51     -0.041798   3.226123e-03\n",
       "66                        total_acc:>=52     -0.024030   5.434095e-01\n",
       "67                    acc_now_delinq:>=1      0.165115   1.095759e-01\n",
       "68               total_rev_hi_lim:5K-10K      0.032777   1.813730e-01\n",
       "69              total_rev_hi_lim:10K-20K      0.020387   3.917145e-01\n",
       "70              total_rev_hi_lim:20K-30K      0.026234   3.163981e-01\n",
       "71              total_rev_hi_lim:30K-40K      0.008894   7.617907e-01\n",
       "72              total_rev_hi_lim:40K-55K      0.068470   3.352786e-02\n",
       "73              total_rev_hi_lim:55K-95K      0.076584   3.296459e-02\n",
       "74                 total_rev_hi_lim:>95K      0.251643   1.021774e-05\n",
       "75                    annual_inc:20K-30K     -0.054414   2.019434e-01\n",
       "76                    annual_inc:30K-40K      0.019780   6.307259e-01\n",
       "77                    annual_inc:40K-50K      0.121384   3.225103e-03\n",
       "78                    annual_inc:50K-60K      0.184650   9.999430e-06\n",
       "79                    annual_inc:60K-70K      0.271149   2.429445e-10\n",
       "80                    annual_inc:70K-80K      0.343335   4.265181e-15\n",
       "81                    annual_inc:80K-90K      0.391787   6.988004e-18\n",
       "82                   annual_inc:90K-100K      0.422015   3.141756e-19\n",
       "83                  annual_inc:100K-120K      0.507954   2.410719e-27\n",
       "84                  annual_inc:120K-140K      0.585830   2.274217e-28\n",
       "85                      annual_inc:>140K      0.546880   2.005434e-28\n",
       "86                             dti:<=1.4      0.271886   2.295693e-03\n",
       "87                           dti:1.4-3.5      0.334102   8.110320e-06\n",
       "88                           dti:3.5-7.7      0.368223   1.868483e-08\n",
       "89                          dti:7.7-10.5      0.290424   7.632799e-06\n",
       "90                         dti:10.5-16.1      0.234317   1.967653e-04\n",
       "91                         dti:16.1-20.3      0.128976   4.029766e-02\n",
       "92                         dti:20.3-21.7      0.138731   3.385622e-02\n",
       "93                         dti:21.7-22.4      0.080932   2.417245e-01\n",
       "94                           dti:22.4-35      0.035115   5.720333e-01\n",
       "95        mths_since_last_delinq:Missing      0.069709   2.250947e-01\n",
       "96           mths_since_last_delinq:4-30      0.148297   5.184742e-03\n",
       "97          mths_since_last_delinq:31-56      0.141679   1.550970e-02\n",
       "98           mths_since_last_delinq:>=57      0.109918   6.557811e-02\n",
       "99        mths_since_last_record:Missing      0.402035   2.762730e-06\n",
       "100          mths_since_last_record:3-20      0.576214   6.272714e-06\n",
       "101         mths_since_last_record:21-31      0.497133   2.581000e-05\n",
       "102         mths_since_last_record:32-80      0.615310   7.805741e-12\n",
       "103         mths_since_last_record:81-86      0.279394   8.185555e-03\n",
       "104           mths_since_last_record:>86      0.314606   3.772581e-04"
      ]
     },
     "execution_count": 29,
     "metadata": {},
     "output_type": "execute_result"
    }
   ],
   "source": [
    "summary_table"
   ]
  },
  {
   "cell_type": "markdown",
   "id": "7b8b6b37",
   "metadata": {},
   "source": [
    "#### PD Model Validation"
   ]
  },
  {
   "cell_type": "code",
   "execution_count": 30,
   "id": "762bf32b",
   "metadata": {},
   "outputs": [],
   "source": [
    "test_inputs_w_refcats = loan_data_inputs_test.loc[: , ['grade:A',\n",
    "'grade:B',\n",
    "'grade:C',\n",
    "'grade:D',\n",
    "'grade:E',\n",
    "'grade:F',\n",
    "'grade:G',\n",
    "'home_ownership:RENT_OTHER_NONE_ANY',\n",
    "'home_ownership:OWN',\n",
    "'home_ownership:MORTGAGE',\n",
    "'addr_state:ND_NE_IA_NV_FL_HI_AL',\n",
    "'addr_state:NM_VA',\n",
    "'addr_state:NY',\n",
    "'addr_state:OK_TN_MO_LA_MD_NC',\n",
    "'addr_state:CA',\n",
    "'addr_state:UT_KY_AZ_NJ',\n",
    "'addr_state:AR_MI_PA_OH_MN',\n",
    "'addr_state:RI_MA_DE_SD_IN',\n",
    "'addr_state:GA_WA_OR',\n",
    "'addr_state:WI_MT',\n",
    "'addr_state:TX',\n",
    "'addr_state:IL_CT',\n",
    "'addr_state:KS_SC_CO_VT_AK_MS',\n",
    "'addr_state:WV_NH_WY_DC_ME_ID',\n",
    "'verification_status:Not Verified',\n",
    "'verification_status:Source Verified',\n",
    "'verification_status:Verified',\n",
    "'purpose:educ__sm_b__wedd__ren_en__mov__house',\n",
    "'purpose:credit_card',\n",
    "'purpose:debt_consolidation',\n",
    "'purpose:oth__med__vacation',\n",
    "'purpose:major_purch__car__home_impr',\n",
    "'initial_list_status:f',\n",
    "'initial_list_status:w',\n",
    "'term:36',\n",
    "'term:60',\n",
    "'emp_length:0',\n",
    "'emp_length:1',\n",
    "'emp_length:2-4',\n",
    "'emp_length:5-6',\n",
    "'emp_length:7-9',\n",
    "'emp_length:10',\n",
    "'mths_since_earliest_issue_d:<38',\n",
    "'mths_since_earliest_issue_d:38-39',\n",
    "'mths_since_earliest_issue_d:40-41',\n",
    "'mths_since_earliest_issue_d:42-48',\n",
    "'mths_since_earliest_issue_d:49-52',\n",
    "'mths_since_earliest_issue_d:53-64',\n",
    "'mths_since_earliest_issue_d:65-84',\n",
    "'mths_since_earliest_issue_d:>84',\n",
    "'int_rate:<9.548',\n",
    "'int_rate:9.548-12.025',\n",
    "'int_rate:12.025-15.74',\n",
    "'int_rate:15.74-20.281',\n",
    "'int_rate:>20.281',\n",
    "'mths_since_earliest_cr_line:<140',\n",
    "'mths_since_earliest_cr_line:141-164',\n",
    "'mths_since_earliest_cr_line:165-247',\n",
    "'mths_since_earliest_cr_line:248-270',\n",
    "'mths_since_earliest_cr_line:271-352',\n",
    "'mths_since_earliest_cr_line:>352',\n",
    "'delinq_2yrs:0',\n",
    "'delinq_2yrs:1-3',\n",
    "'delinq_2yrs:>=4',\n",
    "'inq_last_6mths:0',\n",
    "'inq_last_6mths:1-2',\n",
    "'inq_last_6mths:3-6',\n",
    "'inq_last_6mths:>6',\n",
    "'open_acc:0',\n",
    "'open_acc:1-3',\n",
    "'open_acc:4-12',\n",
    "'open_acc:13-17',\n",
    "'open_acc:18-22',\n",
    "'open_acc:23-25',\n",
    "'open_acc:26-30',\n",
    "'open_acc:>=31',\n",
    "'pub_rec:0-2',\n",
    "'pub_rec:3-4',\n",
    "'pub_rec:>=5',\n",
    "'total_acc:<=27',\n",
    "'total_acc:28-51',\n",
    "'total_acc:>=52',\n",
    "'acc_now_delinq:0',\n",
    "'acc_now_delinq:>=1',\n",
    "'total_rev_hi_lim:<=5K',\n",
    "'total_rev_hi_lim:5K-10K',\n",
    "'total_rev_hi_lim:10K-20K',\n",
    "'total_rev_hi_lim:20K-30K',\n",
    "'total_rev_hi_lim:30K-40K',\n",
    "'total_rev_hi_lim:40K-55K',\n",
    "'total_rev_hi_lim:55K-95K',\n",
    "'total_rev_hi_lim:>95K',\n",
    "'annual_inc:<20K',\n",
    "'annual_inc:20K-30K',\n",
    "'annual_inc:30K-40K',\n",
    "'annual_inc:40K-50K',\n",
    "'annual_inc:50K-60K',\n",
    "'annual_inc:60K-70K',\n",
    "'annual_inc:70K-80K',\n",
    "'annual_inc:80K-90K',\n",
    "'annual_inc:90K-100K',\n",
    "'annual_inc:100K-120K',\n",
    "'annual_inc:120K-140K',\n",
    "'annual_inc:>140K',\n",
    "'dti:<=1.4',\n",
    "'dti:1.4-3.5',\n",
    "'dti:3.5-7.7',\n",
    "'dti:7.7-10.5',\n",
    "'dti:10.5-16.1',\n",
    "'dti:16.1-20.3',\n",
    "'dti:20.3-21.7',\n",
    "'dti:21.7-22.4',\n",
    "'dti:22.4-35',\n",
    "'dti:>35',\n",
    "'mths_since_last_delinq:Missing',\n",
    "'mths_since_last_delinq:0-3',\n",
    "'mths_since_last_delinq:4-30',\n",
    "'mths_since_last_delinq:31-56',\n",
    "'mths_since_last_delinq:>=57',\n",
    "'mths_since_last_record:Missing',\n",
    "'mths_since_last_record:0-2',\n",
    "'mths_since_last_record:3-20',\n",
    "'mths_since_last_record:21-31',\n",
    "'mths_since_last_record:32-80',\n",
    "'mths_since_last_record:81-86',\n",
    "'mths_since_last_record:>86']]"
   ]
  },
  {
   "cell_type": "code",
   "execution_count": null,
   "id": "c3201be7",
   "metadata": {
    "scrolled": true
   },
   "outputs": [],
   "source": [
    "test_inputs = test_inputs_w_refcats.drop(ref_categories, axis=1)\n",
    "#test_inputs.head()"
   ]
  },
  {
   "cell_type": "code",
   "execution_count": 33,
   "id": "7079717b",
   "metadata": {},
   "outputs": [],
   "source": [
    "y_hat_test = reg2.model.predict(test_inputs)"
   ]
  },
  {
   "cell_type": "code",
   "execution_count": 34,
   "id": "00b085b8",
   "metadata": {},
   "outputs": [],
   "source": [
    "y_hat_test_proba = reg2.model.predict_proba(test_inputs)"
   ]
  },
  {
   "cell_type": "code",
   "execution_count": 35,
   "id": "d945422f",
   "metadata": {},
   "outputs": [],
   "source": [
    "y_hat_test_proba = y_hat_test_proba[:][:, 1]"
   ]
  },
  {
   "cell_type": "code",
   "execution_count": 37,
   "id": "e92b9950",
   "metadata": {},
   "outputs": [],
   "source": [
    "test_targets_temp = loan_data_targets_test\n",
    "test_targets_temp.reset_index(drop = True, inplace= True)"
   ]
  },
  {
   "cell_type": "code",
   "execution_count": 38,
   "id": "db70b352",
   "metadata": {},
   "outputs": [],
   "source": [
    "df_actual_predicted_probs = pd.concat([test_targets_temp, pd.DataFrame(y_hat_test_proba)], axis =1)"
   ]
  },
  {
   "cell_type": "code",
   "execution_count": 40,
   "id": "7593d4e1",
   "metadata": {},
   "outputs": [],
   "source": [
    "df_actual_predicted_probs.columns = ['loan_data_targets_test', 'y_hat_test_proba']"
   ]
  },
  {
   "cell_type": "code",
   "execution_count": 41,
   "id": "7cb01205",
   "metadata": {},
   "outputs": [],
   "source": [
    "df_actual_predicted_probs.index = loan_data_targets_test.index"
   ]
  },
  {
   "cell_type": "markdown",
   "id": "225f8e98",
   "metadata": {},
   "source": [
    "### Accuracy and Area Under Curve"
   ]
  },
  {
   "cell_type": "code",
   "execution_count": 43,
   "id": "4ce8db96",
   "metadata": {},
   "outputs": [],
   "source": [
    "# Here the threshold is set to 0.5\n",
    "tr = 0.5\n",
    "df_actual_predicted_probs['y_hat_test'] = np.where(df_actual_predicted_probs [ 'y_hat_test_proba'] > tr, 1, 0)"
   ]
  },
  {
   "cell_type": "code",
   "execution_count": 44,
   "id": "90e8153a",
   "metadata": {},
   "outputs": [
    {
     "data": {
      "text/html": [
       "<div>\n",
       "<style scoped>\n",
       "    .dataframe tbody tr th:only-of-type {\n",
       "        vertical-align: middle;\n",
       "    }\n",
       "\n",
       "    .dataframe tbody tr th {\n",
       "        vertical-align: top;\n",
       "    }\n",
       "\n",
       "    .dataframe thead th {\n",
       "        text-align: right;\n",
       "    }\n",
       "</style>\n",
       "<table border=\"1\" class=\"dataframe\">\n",
       "  <thead>\n",
       "    <tr style=\"text-align: right;\">\n",
       "      <th>Predicted</th>\n",
       "      <th>0</th>\n",
       "      <th>1</th>\n",
       "    </tr>\n",
       "    <tr>\n",
       "      <th>Actual</th>\n",
       "      <th></th>\n",
       "      <th></th>\n",
       "    </tr>\n",
       "  </thead>\n",
       "  <tbody>\n",
       "    <tr>\n",
       "      <th>0</th>\n",
       "      <td>4</td>\n",
       "      <td>10166</td>\n",
       "    </tr>\n",
       "    <tr>\n",
       "      <th>1</th>\n",
       "      <td>10</td>\n",
       "      <td>83077</td>\n",
       "    </tr>\n",
       "  </tbody>\n",
       "</table>\n",
       "</div>"
      ],
      "text/plain": [
       "Predicted   0      1\n",
       "Actual              \n",
       "0           4  10166\n",
       "1          10  83077"
      ]
     },
     "execution_count": 44,
     "metadata": {},
     "output_type": "execute_result"
    }
   ],
   "source": [
    "pd.crosstab(df_actual_predicted_probs['loan_data_targets_test'], df_actual_predicted_probs['y_hat_test'],\n",
    "           rownames = ['Actual'], colnames = ['Predicted'])"
   ]
  },
  {
   "cell_type": "code",
   "execution_count": 46,
   "id": "5b2a6795",
   "metadata": {},
   "outputs": [],
   "source": [
    "fpr, tpr, thresholds = roc_curve(df_actual_predicted_probs['loan_data_targets_test'],\n",
    "                              df_actual_predicted_probs['y_hat_test_proba'])"
   ]
  },
  {
   "cell_type": "code",
   "execution_count": 47,
   "id": "831d58da",
   "metadata": {},
   "outputs": [
    {
     "data": {
      "image/png": "[encoded data removed]",
      "text/plain": [
       "<Figure size 432x288 with 1 Axes>"
      ]
     },
     "metadata": {},
     "output_type": "display_data"
    }
   ],
   "source": [
    "plt.title('Receiver Operating Characteristic')\n",
    "plt.plot(fpr, tpr)\n",
    "plt.plot(fpr, fpr, linestyle= '--', color = 'k')\n",
    "plt.ylabel('True Positive Rate')\n",
    "plt.xlabel('False Positive Rate')\n",
    "plt.show()"
   ]
  },
  {
   "cell_type": "code",
   "execution_count": 48,
   "id": "486cd37c",
   "metadata": {},
   "outputs": [
    {
     "data": {
      "text/plain": [
       "0.6958504424624914"
      ]
     },
     "execution_count": 48,
     "metadata": {},
     "output_type": "execute_result"
    }
   ],
   "source": [
    "auroc = roc_auc_score(df_actual_predicted_probs['loan_data_targets_test'],\n",
    "                              df_actual_predicted_probs['y_hat_test_proba'])\n",
    "auroc"
   ]
  },
  {
   "cell_type": "markdown",
   "id": "b165869d",
   "metadata": {},
   "source": [
    "#### Gini and KS "
   ]
  },
  {
   "cell_type": "code",
   "execution_count": 49,
   "id": "22ca0e37",
   "metadata": {},
   "outputs": [],
   "source": [
    "df_actual_predicted_probs = df_actual_predicted_probs.sort_values('y_hat_test_proba')"
   ]
  },
  {
   "cell_type": "code",
   "execution_count": 50,
   "id": "1e36738d",
   "metadata": {},
   "outputs": [
    {
     "data": {
      "text/html": [
       "<div>\n",
       "<style scoped>\n",
       "    .dataframe tbody tr th:only-of-type {\n",
       "        vertical-align: middle;\n",
       "    }\n",
       "\n",
       "    .dataframe tbody tr th {\n",
       "        vertical-align: top;\n",
       "    }\n",
       "\n",
       "    .dataframe thead th {\n",
       "        text-align: right;\n",
       "    }\n",
       "</style>\n",
       "<table border=\"1\" class=\"dataframe\">\n",
       "  <thead>\n",
       "    <tr style=\"text-align: right;\">\n",
       "      <th></th>\n",
       "      <th>loan_data_targets_test</th>\n",
       "      <th>y_hat_test_proba</th>\n",
       "      <th>y_hat_test</th>\n",
       "    </tr>\n",
       "  </thead>\n",
       "  <tbody>\n",
       "    <tr>\n",
       "      <th>0</th>\n",
       "      <td>1</td>\n",
       "      <td>0.334292</td>\n",
       "      <td>0</td>\n",
       "    </tr>\n",
       "    <tr>\n",
       "      <th>1</th>\n",
       "      <td>1</td>\n",
       "      <td>0.415453</td>\n",
       "      <td>0</td>\n",
       "    </tr>\n",
       "    <tr>\n",
       "      <th>2</th>\n",
       "      <td>0</td>\n",
       "      <td>0.418690</td>\n",
       "      <td>0</td>\n",
       "    </tr>\n",
       "    <tr>\n",
       "      <th>3</th>\n",
       "      <td>1</td>\n",
       "      <td>0.424763</td>\n",
       "      <td>0</td>\n",
       "    </tr>\n",
       "    <tr>\n",
       "      <th>4</th>\n",
       "      <td>0</td>\n",
       "      <td>0.452093</td>\n",
       "      <td>0</td>\n",
       "    </tr>\n",
       "  </tbody>\n",
       "</table>\n",
       "</div>"
      ],
      "text/plain": [
       "   loan_data_targets_test  y_hat_test_proba  y_hat_test\n",
       "0                       1          0.334292           0\n",
       "1                       1          0.415453           0\n",
       "2                       0          0.418690           0\n",
       "3                       1          0.424763           0\n",
       "4                       0          0.452093           0"
      ]
     },
     "execution_count": 50,
     "metadata": {},
     "output_type": "execute_result"
    }
   ],
   "source": [
    "df_actual_predicted_probs.reset_index(drop=True, inplace=True,)\n",
    "df_actual_predicted_probs.head()"
   ]
  },
  {
   "cell_type": "code",
   "execution_count": 51,
   "id": "c150d683",
   "metadata": {},
   "outputs": [],
   "source": [
    "df_actual_predicted_probs['Cumulative N Population'] = df_actual_predicted_probs.index + 1\n",
    "df_actual_predicted_probs['Cumulative N Good'] = df_actual_predicted_probs['loan_data_targets_test'].cumsum()\n",
    "df_actual_predicted_probs['Cumulative N Bad'] = df_actual_predicted_probs['Cumulative N Population'] - df_actual_predicted_probs['loan_data_targets_test'].cumsum()"
   ]
  },
  {
   "cell_type": "code",
   "execution_count": 53,
   "id": "ae3fe426",
   "metadata": {},
   "outputs": [],
   "source": [
    "df_actual_predicted_probs['Cumulative Perc Population'] = df_actual_predicted_probs['Cumulative N Population'] / (df_actual_predicted_probs.shape[0])\n",
    "df_actual_predicted_probs['Cumulative Perc Good'] = df_actual_predicted_probs['Cumulative N Good'] / df_actual_predicted_probs['loan_data_targets_test'].sum()\n",
    "df_actual_predicted_probs['Cumulative Perc Bad'] = df_actual_predicted_probs['Cumulative N Bad'] / (df_actual_predicted_probs.shape[0] - df_actual_predicted_probs['loan_data_targets_test'].sum())"
   ]
  },
  {
   "cell_type": "code",
   "execution_count": 55,
   "id": "9dbbbcd8",
   "metadata": {},
   "outputs": [
    {
     "data": {
      "image/png": "[encoded data removed]",
      "text/plain": [
       "<Figure size 432x288 with 1 Axes>"
      ]
     },
     "metadata": {},
     "output_type": "display_data"
    }
   ],
   "source": [
    "plt.title('Gini Plot')\n",
    "plt.plot(df_actual_predicted_probs['Cumulative Perc Population'], df_actual_predicted_probs['Cumulative Perc Bad'])\n",
    "plt.plot(df_actual_predicted_probs['Cumulative Perc Population'], df_actual_predicted_probs['Cumulative Perc Population'], linestyle = '--', color = 'k')\n",
    "plt.ylabel('Cumulative % Bad')\n",
    "plt.xlabel('Cumulative % Population')\n",
    "plt.show()"
   ]
  },
  {
   "cell_type": "code",
   "execution_count": 56,
   "id": "3583bd5c",
   "metadata": {},
   "outputs": [
    {
     "data": {
      "text/plain": [
       "0.3917008849249828"
      ]
     },
     "execution_count": 56,
     "metadata": {},
     "output_type": "execute_result"
    }
   ],
   "source": [
    "Gini = auroc * 2 - 1\n",
    "Gini"
   ]
  },
  {
   "cell_type": "code",
   "execution_count": 57,
   "id": "37eab6cf",
   "metadata": {},
   "outputs": [
    {
     "data": {
      "image/png": "[encoded data removed]",
      "text/plain": [
       "<Figure size 432x288 with 1 Axes>"
      ]
     },
     "metadata": {},
     "output_type": "display_data"
    }
   ],
   "source": [
    "plt.plot(df_actual_predicted_probs['y_hat_test_proba'], df_actual_predicted_probs['Cumulative Perc Bad'], color ='r')\n",
    "plt.plot(df_actual_predicted_probs['y_hat_test_proba'], df_actual_predicted_probs['Cumulative Perc Good'], color ='b')\n",
    "plt.ylabel('Estimated Probabiltity for being good')\n",
    "plt.xlabel('Cumulative % ')\n",
    "plt.title('Kolmogorov-Smirnov')\n",
    "plt.show()"
   ]
  },
  {
   "cell_type": "code",
   "execution_count": 58,
   "id": "e95a7b48",
   "metadata": {},
   "outputs": [
    {
     "data": {
      "text/plain": [
       "0.2861185309793449"
      ]
     },
     "execution_count": 58,
     "metadata": {},
     "output_type": "execute_result"
    }
   ],
   "source": [
    "KS = max(df_actual_predicted_probs['Cumulative Perc Bad'] - df_actual_predicted_probs['Cumulative Perc Good'])\n",
    "KS"
   ]
  },
  {
   "cell_type": "markdown",
   "id": "33995ff6",
   "metadata": {},
   "source": [
    "### Creating a ScoreCard"
   ]
  },
  {
   "cell_type": "code",
   "execution_count": null,
   "id": "5740dcb6",
   "metadata": {
    "scrolled": true
   },
   "outputs": [],
   "source": [
    "df_ref_categories = pd.DataFrame(ref_categories, columns= ['Feature name'])\n",
    "df_ref_categories['Coefficients'] = 0\n",
    "df_ref_categories['p_values'] = np.nan"
   ]
  },
  {
   "cell_type": "code",
   "execution_count": 62,
   "id": "9c6efda7",
   "metadata": {},
   "outputs": [],
   "source": [
    "df_scorecard = pd.concat([summary_table, df_ref_categories])\n",
    "df_scorecard = df_scorecard.reset_index()"
   ]
  },
  {
   "cell_type": "code",
   "execution_count": 63,
   "id": "7179bd8d",
   "metadata": {},
   "outputs": [],
   "source": [
    "df_scorecard['Original Feature Name'] = df_scorecard['Feature name'].str.split(':').str[0]"
   ]
  },
  {
   "cell_type": "code",
   "execution_count": 64,
   "id": "8cbd40fd",
   "metadata": {},
   "outputs": [],
   "source": [
    "min_score = 300\n",
    "max_score = 850"
   ]
  },
  {
   "cell_type": "code",
   "execution_count": 66,
   "id": "8f25693d",
   "metadata": {},
   "outputs": [
    {
     "data": {
      "text/plain": [
       "-2.223799262104661"
      ]
     },
     "execution_count": 66,
     "metadata": {},
     "output_type": "execute_result"
    }
   ],
   "source": [
    "min_sum_coef = df_scorecard.groupby('Original Feature Name')['Coefficients'].min().sum()\n",
    "min_sum_coef "
   ]
  },
  {
   "cell_type": "code",
   "execution_count": 67,
   "id": "86bad029",
   "metadata": {},
   "outputs": [
    {
     "data": {
      "text/plain": [
       "5.8808198863951775"
      ]
     },
     "execution_count": 67,
     "metadata": {},
     "output_type": "execute_result"
    }
   ],
   "source": [
    "max_sum_coef = df_scorecard.groupby('Original Feature Name')['Coefficients'].max().sum()\n",
    "max_sum_coef "
   ]
  },
  {
   "cell_type": "code",
   "execution_count": 68,
   "id": "a7e31724",
   "metadata": {},
   "outputs": [],
   "source": [
    "df_scorecard['Score - Calculation'] = df_scorecard['Coefficients'] * (max_score - min_score) / (max_sum_coef - min_sum_coef)"
   ]
  },
  {
   "cell_type": "code",
   "execution_count": 69,
   "id": "f85ef71d",
   "metadata": {},
   "outputs": [
    {
     "name": "stderr",
     "output_type": "stream",
     "text": [
      "C:\\Users\\DL379QB\\AppData\\Local\\Temp/ipykernel_5164/3477680335.py:1: SettingWithCopyWarning: \n",
      "A value is trying to be set on a copy of a slice from a DataFrame\n",
      "\n",
      "See the caveats in the documentation: https://pandas.pydata.org/pandas-docs/stable/user_guide/indexing.html#returning-a-view-versus-a-copy\n",
      "  df_scorecard['Score - Calculation'][0] = (df_scorecard['Coefficients'][0] - min_sum_coef) / (max_sum_coef - min_sum_coef) * (max_score - min_score) + min_score\n"
     ]
    }
   ],
   "source": [
    "df_scorecard['Score - Calculation'][0] = (df_scorecard['Coefficients'][0] - min_sum_coef) / (max_sum_coef - min_sum_coef) * (max_score - min_score) + min_score"
   ]
  },
  {
   "cell_type": "code",
   "execution_count": 70,
   "id": "f611c787",
   "metadata": {},
   "outputs": [],
   "source": [
    "df_scorecard['Score - Preliminary'] = df_scorecard['Score - Calculation'].round()"
   ]
  },
  {
   "cell_type": "code",
   "execution_count": 74,
   "id": "ac88da72",
   "metadata": {},
   "outputs": [],
   "source": [
    "df_scorecard['Score - Final'] = df_scorecard['Score - Preliminary']"
   ]
  },
  {
   "cell_type": "code",
   "execution_count": 75,
   "id": "8575855d",
   "metadata": {},
   "outputs": [
    {
     "name": "stderr",
     "output_type": "stream",
     "text": [
      "C:\\Users\\DL379QB\\AppData\\Local\\Temp/ipykernel_5164/4292311304.py:1: SettingWithCopyWarning: \n",
      "A value is trying to be set on a copy of a slice from a DataFrame\n",
      "\n",
      "See the caveats in the documentation: https://pandas.pydata.org/pandas-docs/stable/user_guide/indexing.html#returning-a-view-versus-a-copy\n",
      "  df_scorecard['Score - Final'][75] = -3\n"
     ]
    }
   ],
   "source": [
    "# Adjusting so the min is within the limits\n",
    "df_scorecard['Score - Final'][75] = -3"
   ]
  },
  {
   "cell_type": "code",
   "execution_count": 78,
   "id": "a9ed2be9",
   "metadata": {},
   "outputs": [
    {
     "data": {
      "text/plain": [
       "300.0"
      ]
     },
     "execution_count": 78,
     "metadata": {},
     "output_type": "execute_result"
    }
   ],
   "source": [
    "min_sumscore = df_scorecard.groupby('Original Feature Name')['Score - Final'].min().sum()\n",
    "min_sumscore"
   ]
  },
  {
   "cell_type": "code",
   "execution_count": 79,
   "id": "6c851676",
   "metadata": {},
   "outputs": [
    {
     "name": "stderr",
     "output_type": "stream",
     "text": [
      "C:\\Users\\DL379QB\\AppData\\Local\\Temp/ipykernel_5164/3492775277.py:1: SettingWithCopyWarning: \n",
      "A value is trying to be set on a copy of a slice from a DataFrame\n",
      "\n",
      "See the caveats in the documentation: https://pandas.pydata.org/pandas-docs/stable/user_guide/indexing.html#returning-a-view-versus-a-copy\n",
      "  df_scorecard['Score - Final'][0] = 316\n"
     ]
    }
   ],
   "source": [
    "# Adjusting so the max is within the limits\n",
    "df_scorecard['Score - Final'][0] = 316"
   ]
  },
  {
   "cell_type": "code",
   "execution_count": 80,
   "id": "84a204a3",
   "metadata": {},
   "outputs": [
    {
     "data": {
      "text/plain": [
       "850.0"
      ]
     },
     "execution_count": 80,
     "metadata": {},
     "output_type": "execute_result"
    }
   ],
   "source": [
    "max_sumscore = df_scorecard.groupby('Original Feature Name')['Score - Final'].max().sum()\n",
    "max_sumscore"
   ]
  },
  {
   "cell_type": "markdown",
   "id": "616eaffb",
   "metadata": {},
   "source": [
    "#### Calculating credit score"
   ]
  },
  {
   "cell_type": "code",
   "execution_count": 83,
   "id": "684ef6a2",
   "metadata": {},
   "outputs": [],
   "source": [
    "tests_inputs_w_intercept = test_inputs_w_refcats"
   ]
  },
  {
   "cell_type": "code",
   "execution_count": 84,
   "id": "4b9a9e58",
   "metadata": {},
   "outputs": [],
   "source": [
    "tests_inputs_w_intercept.insert(0, 'Intercept', 1)"
   ]
  },
  {
   "cell_type": "code",
   "execution_count": 86,
   "id": "fb0fd5c4",
   "metadata": {},
   "outputs": [],
   "source": [
    "tests_inputs_w_intercept = tests_inputs_w_intercept[df_scorecard['Feature name'].values]"
   ]
  },
  {
   "cell_type": "code",
   "execution_count": null,
   "id": "c4feba9f",
   "metadata": {
    "scrolled": true
   },
   "outputs": [],
   "source": [
    "scorecard_scores = df_scorecard['Score - Final']"
   ]
  },
  {
   "cell_type": "code",
   "execution_count": 90,
   "id": "4041e402",
   "metadata": {},
   "outputs": [],
   "source": [
    "scorecard_scores = scorecard_scores.values.reshape(127, 1)"
   ]
  },
  {
   "cell_type": "code",
   "execution_count": null,
   "id": "cedb71bd",
   "metadata": {
    "scrolled": true
   },
   "outputs": [],
   "source": [
    "y_scores = tests_inputs_w_intercept.dot(scorecard_scores)"
   ]
  },
  {
   "cell_type": "markdown",
   "id": "567d9497",
   "metadata": {},
   "source": [
    "#### From 'Score' to 'Probability of default'"
   ]
  },
  {
   "cell_type": "code",
   "execution_count": 92,
   "id": "8ef118cb",
   "metadata": {},
   "outputs": [],
   "source": [
    "sum_coef_from_score = ((y_scores - min_score) / (max_score - min_score)) * (max_sum_coef - min_sum_coef) + min_sum_coef"
   ]
  },
  {
   "cell_type": "code",
   "execution_count": null,
   "id": "fc9402f1",
   "metadata": {
    "scrolled": true
   },
   "outputs": [],
   "source": [
    "y_hat_proba_from_score = np.exp(sum_coef_from_score) / (np.exp(sum_coef_from_score) + 1)"
   ]
  },
  {
   "cell_type": "markdown",
   "id": "eea64487",
   "metadata": {},
   "source": [
    "#### Setting cut-offs"
   ]
  },
  {
   "cell_type": "markdown",
   "id": "2ae829ba",
   "metadata": {},
   "source": [
    "###### Now to set thresholds for acceptance. Too high and not enough business. Too low, lending to bad debtors"
   ]
  },
  {
   "cell_type": "code",
   "execution_count": 96,
   "id": "9b804bd6",
   "metadata": {},
   "outputs": [],
   "source": [
    "df_cutoffs= pd.concat([pd.DataFrame(thresholds), pd.DataFrame(fpr), pd.DataFrame(tpr)], axis = 1)"
   ]
  },
  {
   "cell_type": "code",
   "execution_count": 97,
   "id": "bee87f81",
   "metadata": {},
   "outputs": [],
   "source": [
    "df_cutoffs.columns = ['thresholds', 'fpr', 'tpr']"
   ]
  },
  {
   "cell_type": "code",
   "execution_count": 99,
   "id": "38d049b8",
   "metadata": {},
   "outputs": [],
   "source": [
    "df_cutoffs['thresholds'][0] = 1 - 1 / np.power(10, 16)"
   ]
  },
  {
   "cell_type": "code",
   "execution_count": 100,
   "id": "65edee2d",
   "metadata": {},
   "outputs": [],
   "source": [
    "df_cutoffs['Score'] = ((np.log(df_cutoffs['thresholds'] / (1 - df_cutoffs['thresholds'])) - min_sum_coef) * ((max_score - min_score) / (max_sum_coef - min_sum_coef)) + min_score).round()\n",
    "# The score corresponsing to each threshold equals:\n",
    "# The the difference between the natural logarithm of the ratio of the threshold and 1 minus the threshold and\n",
    "# the minimum sum of coefficients\n",
    "# multiplied by\n",
    "# the sum of the minimum score and the ratio of the difference between the maximum score and minimum score and \n",
    "# the difference between the maximum sum of coefficients and the minimum sum of coefficients.\n"
   ]
  },
  {
   "cell_type": "code",
   "execution_count": 102,
   "id": "d31ac06d",
   "metadata": {},
   "outputs": [],
   "source": [
    "df_cutoffs['Score'][0] = max_score"
   ]
  },
  {
   "cell_type": "code",
   "execution_count": 104,
   "id": "ee9ad93c",
   "metadata": {},
   "outputs": [],
   "source": [
    "def n_approved(p):\n",
    "    ''' This function will calculate the number of approved borrowers given a threshold'''\n",
    "    return np.where(df_actual_predicted_probs['y_hat_test_proba'] >= p, 1, 0 ).sum()"
   ]
  },
  {
   "cell_type": "code",
   "execution_count": 105,
   "id": "97d1815d",
   "metadata": {},
   "outputs": [],
   "source": [
    "df_cutoffs['N Approved'] = df_cutoffs['thresholds'].apply(n_approved)\n",
    "df_cutoffs['N Rejected'] = df_actual_predicted_probs['y_hat_test_proba'].shape[0] - df_cutoffs['N Approved']\n",
    "df_cutoffs['Approval Rate'] = df_cutoffs['N Approved'] / df_actual_predicted_probs['y_hat_test_proba'].shape[0]\n",
    "df_cutoffs['Rejection Rate'] = 1 - df_cutoffs['Approval Rate']"
   ]
  },
  {
   "cell_type": "code",
   "execution_count": 110,
   "id": "ca123ca8",
   "metadata": {},
   "outputs": [],
   "source": [
    "df_scorecard.to_csv('df_scorecard.csv')"
   ]
  },
  {
   "cell_type": "code",
   "execution_count": 112,
   "id": "8def8788",
   "metadata": {},
   "outputs": [
    {
     "data": {
      "text/html": [
       "<div>\n",
       "<style scoped>\n",
       "    .dataframe tbody tr th:only-of-type {\n",
       "        vertical-align: middle;\n",
       "    }\n",
       "\n",
       "    .dataframe tbody tr th {\n",
       "        vertical-align: top;\n",
       "    }\n",
       "\n",
       "    .dataframe thead th {\n",
       "        text-align: right;\n",
       "    }\n",
       "</style>\n",
       "<table border=\"1\" class=\"dataframe\">\n",
       "  <thead>\n",
       "    <tr style=\"text-align: right;\">\n",
       "      <th></th>\n",
       "      <th>index</th>\n",
       "      <th>Feature name</th>\n",
       "      <th>Coefficients</th>\n",
       "      <th>p_values</th>\n",
       "      <th>Original Feature Name</th>\n",
       "      <th>Score - Calculation</th>\n",
       "      <th>Score - Preliminary</th>\n",
       "      <th>Score - Final</th>\n",
       "    </tr>\n",
       "  </thead>\n",
       "  <tbody>\n",
       "    <tr>\n",
       "      <th>0</th>\n",
       "      <td>0</td>\n",
       "      <td>Intercept</td>\n",
       "      <td>-1.979571</td>\n",
       "      <td>NaN</td>\n",
       "      <td>Intercept</td>\n",
       "      <td>316.573979</td>\n",
       "      <td>317.0</td>\n",
       "      <td>316.0</td>\n",
       "    </tr>\n",
       "    <tr>\n",
       "      <th>1</th>\n",
       "      <td>1</td>\n",
       "      <td>grade:A</td>\n",
       "      <td>0.996674</td>\n",
       "      <td>9.202306e-27</td>\n",
       "      <td>grade</td>\n",
       "      <td>67.636791</td>\n",
       "      <td>68.0</td>\n",
       "      <td>68.0</td>\n",
       "    </tr>\n",
       "    <tr>\n",
       "      <th>2</th>\n",
       "      <td>2</td>\n",
       "      <td>grade:B</td>\n",
       "      <td>0.877523</td>\n",
       "      <td>1.855336e-47</td>\n",
       "      <td>grade</td>\n",
       "      <td>59.550953</td>\n",
       "      <td>60.0</td>\n",
       "      <td>60.0</td>\n",
       "    </tr>\n",
       "    <tr>\n",
       "      <th>3</th>\n",
       "      <td>3</td>\n",
       "      <td>grade:C</td>\n",
       "      <td>0.697416</td>\n",
       "      <td>2.043950e-35</td>\n",
       "      <td>grade</td>\n",
       "      <td>47.328435</td>\n",
       "      <td>47.0</td>\n",
       "      <td>47.0</td>\n",
       "    </tr>\n",
       "    <tr>\n",
       "      <th>4</th>\n",
       "      <td>4</td>\n",
       "      <td>grade:D</td>\n",
       "      <td>0.512380</td>\n",
       "      <td>6.640951e-22</td>\n",
       "      <td>grade</td>\n",
       "      <td>34.771434</td>\n",
       "      <td>35.0</td>\n",
       "      <td>35.0</td>\n",
       "    </tr>\n",
       "  </tbody>\n",
       "</table>\n",
       "</div>"
      ],
      "text/plain": [
       "   index Feature name  Coefficients      p_values Original Feature Name  \\\n",
       "0      0    Intercept     -1.979571           NaN             Intercept   \n",
       "1      1      grade:A      0.996674  9.202306e-27                 grade   \n",
       "2      2      grade:B      0.877523  1.855336e-47                 grade   \n",
       "3      3      grade:C      0.697416  2.043950e-35                 grade   \n",
       "4      4      grade:D      0.512380  6.640951e-22                 grade   \n",
       "\n",
       "   Score - Calculation  Score - Preliminary  Score - Final  \n",
       "0           316.573979                317.0          316.0  \n",
       "1            67.636791                 68.0           68.0  \n",
       "2            59.550953                 60.0           60.0  \n",
       "3            47.328435                 47.0           47.0  \n",
       "4            34.771434                 35.0           35.0  "
      ]
     },
     "execution_count": 112,
     "metadata": {},
     "output_type": "execute_result"
    }
   ],
   "source": [
    "df_scorecard.head()"
   ]
  },
  {
   "cell_type": "code",
   "execution_count": 114,
   "id": "b1eac389",
   "metadata": {},
   "outputs": [],
   "source": [
    "inputs_train_with_ref_cat.to_csv('inputs_train_with_ref_cat.csv')"
   ]
  }
 ],
 "metadata": {
  "kernelspec": {
   "display_name": "Python 3 (ipykernel)",
   "language": "python",
   "name": "python3"
  },
  "language_info": {
   "codemirror_mode": {
    "name": "ipython",
    "version": 3
   },
   "file_extension": ".py",
   "mimetype": "text/x-python",
   "name": "python",
   "nbconvert_exporter": "python",
   "pygments_lexer": "ipython3",
   "version": "3.11.7"
  }
 },
 "nbformat": 4,
 "nbformat_minor": 5
}
